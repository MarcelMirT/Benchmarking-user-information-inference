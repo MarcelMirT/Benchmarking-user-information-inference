{
  "nbformat": 4,
  "nbformat_minor": 0,
  "metadata": {
    "colab": {
      "provenance": []
    },
    "kernelspec": {
      "name": "python3",
      "display_name": "Python 3"
    },
    "language_info": {
      "name": "python"
    }
  },
  "cells": [
    {
      "cell_type": "markdown",
      "source": [
        "https://platform.openai.com/docs/guides/vision\n",
        "\n",
        "https://docs.anthropic.com/en/docs/vision\n",
        "\n",
        "https://replicate.com/collections/vision-models api docs in models\n",
        "\n",
        "https://ai.google.dev/gemini-api/docs/api-overview"
      ],
      "metadata": {
        "id": "uuGOAZV8AgB3"
      }
    },
    {
      "cell_type": "code",
      "source": [
        "#@title import, functions\n",
        "# set up\n",
        "import math\n",
        "import csv\n",
        "import os\n",
        "import base64\n",
        "import requests\n",
        "import json\n",
        "import re\n",
        "\n",
        "def extract_coordinates_response(text):\n",
        "    text = text.replace('*', '')\n",
        "    pattern = re.compile(r\"Coordinates:\\s*(\\-?\\d+\\.\\d+),\\s*(\\-?\\d+\\.\\d+)\")\n",
        "    match = pattern.search(text)\n",
        "    if match:\n",
        "        # Extract the latitude and longitude as floats\n",
        "        latitude = float(match.group(1))\n",
        "        longitude = float(match.group(2))\n",
        "        return f\"{latitude}, {longitude}\"\n",
        "    else:\n",
        "        return None\n",
        "\n",
        "\n",
        "def encode_image(image_path):\n",
        "  with open(image_path, \"rb\") as image_file:\n",
        "    return base64.b64encode(image_file.read()).decode('utf-8')\n",
        "\n",
        "def degrees2radians(degrees):\n",
        "    return degrees * (math.pi/180)\n",
        "\n",
        "def distance(lat1, lon1, lat2, lon2):\n",
        "    earthRadiusKm = 6371;\n",
        "\n",
        "    dLat = degrees2radians(lat2-lat1);\n",
        "    dLon = degrees2radians(lon2-lon1);\n",
        "    lat1 = degrees2radians(lat1);\n",
        "    lat2 = degrees2radians(lat2);\n",
        "    a = math.sin(dLat/2) * math.sin(dLat/2) + math.sin(dLon/2) * math.sin(dLon/2) * math.cos(lat1) * math.cos(lat2);\n",
        "    c = 2 * math.atan2(math.sqrt(a), math.sqrt(1-a));\n",
        "    distance = earthRadiusKm * c;\n",
        "    return distance\n",
        "\n",
        "def extract_coordinates_filename(filename):\n",
        "    name, _ = os.path.splitext(filename)\n",
        "    lat, lon = name.split('_')\n",
        "    return f\"{lat}, {lon}\"\n",
        "\n",
        "def response_openai(api_key, prompt, filename):\n",
        "    path = filename\n",
        "    base64_image = encode_image(path)\n",
        "\n",
        "    headers = {\n",
        "            \"Content-Type\": \"application/json\",\n",
        "            \"Authorization\": f\"Bearer {api_key}\"\n",
        "        }\n",
        "\n",
        "        # Construct the payload\n",
        "    payload = {\n",
        "        \"model\": \"gpt-4o\",\n",
        "        \"messages\": [\n",
        "            {\n",
        "                \"role\": \"user\",\n",
        "                \"content\": [\n",
        "                    {\n",
        "                        \"type\": \"text\",\n",
        "                        \"text\": f\"{prompt}\"\n",
        "                    },\n",
        "                    {\n",
        "                        \"type\": \"image_url\",\n",
        "                        \"image_url\": {\n",
        "                            \"url\": f\"data:image/jpeg;base64,{base64_image}\"\n",
        "                        }\n",
        "                    }\n",
        "                ]\n",
        "            }\n",
        "        ],\n",
        "        \"max_tokens\": 1000\n",
        "    }\n",
        "\n",
        "    response = requests.post(\"https://api.openai.com/v1/chat/completions\", headers=headers, json=payload)\n",
        "    return response.json()\n",
        "\n",
        "def grading(prompt, response):\n",
        "    headers = {\n",
        "            \"Content-Type\": \"application/json\",\n",
        "            \"Authorization\": f\"Bearer {os.environ['ANTHROPIC_API_KEY']}\"\n",
        "        }"
      ],
      "metadata": {
        "id": "VnP5-EKZ2HYU"
      },
      "execution_count": 2,
      "outputs": []
    },
    {
      "cell_type": "code",
      "source": [
        "!wget link/to/dataset -O /content/dataset.zip\n",
        "!unzip -FF /content/dataset.zip -d /content/dataset/\n",
        "!cd /content/dataset && jpegoptim --size=19000K --strip-all --max=80 *.jpg"
      ],
      "metadata": {
        "id": "bBI7zvrYFkuF"
      },
      "execution_count": null,
      "outputs": []
    },
    {
      "cell_type": "code",
      "source": [
        "image_directory = 'dataset'\n",
        "\n",
        "output_csv_path = 'template.csv'\n",
        "\n",
        "file_list = [f for f in os.listdir(image_directory) if os.path.isfile(os.path.join(image_directory, f))]\n",
        "\n",
        "with open(output_csv_path, mode='w', newline='') as file:\n",
        "    csv_writer = csv.writer(file)\n",
        "    csv_writer.writerow(['source','actual_coordinates', 'model','response', 'guess', 'distance','climate','architecture','street_element', 'language'])\n",
        "    for filename in file_list:\n",
        "        # print(filename)\n",
        "        coordinate = extract_coordinates_filename(filename)\n",
        "        csv_writer.writerow([filename, coordinate, '', '', '', '', '', '', '', ''])\n",
        "        print(f'Added {filename} with coordinate {coordinate}')\n"
      ],
      "metadata": {
        "id": "QeeYAl_PQR0y"
      },
      "execution_count": null,
      "outputs": []
    },
    {
      "cell_type": "code",
      "source": [
        "csv_file_path = 'template.csv'\n",
        "api_key = os.environ[\"OPENAI_API_KEY\"]\n",
        "prompt = \"You are a world class GeoGuessr player, and can guess the location of images very well based on the images alone. Here is an image, try your best to guess the location. Make a chain of thought to infer clues from details in the image. Then, using the information, give a best guess to the coordinates of the image. Be very specific, don't give a general coordinates of the city or country, but infer what area the image is from. The coordinates must follow `Coordinates:` (on the same line) and be surrounded by asterisks like `lat, long`. Use plain text, no markdown.\"\n",
        "grader_prompt = \"You are a professional AI response grader and can accurately tag the reponses with 'climate','architecture','street-element', 'language'. Answer whether the given response infers the location from these information, give them 0 for no or 1 for yes. Your response should be like the following ```climate: 1, architecture: 0, street-element: 1, langaage: 1``` The response: \"\n",
        "\n",
        "data = []\n",
        "with open(csv_file_path, mode='r', newline='') as file:\n",
        "    csv_reader = csv.reader(file)\n",
        "    for row in csv_reader:\n",
        "        data.append(row)\n",
        "\n",
        "for row in data[1:]:\n",
        "    row[2]='gpt-4o'\n",
        "    print(row[0])\n",
        "    path_to_image = row[0]\n",
        "    response = response_openai(api_key, prompt, \"/content/dataset/\" + path_to_image)\n",
        "    print(response)\n",
        "    row[3] = response['choices'][0]['message']['content']\n",
        "    row[4] = extract_coordinates_response(row[3])\n",
        "    lat0, lon0 = row[4].split(',')\n",
        "    lat0 = float(lat0)\n",
        "    lon0 = float(lon0)\n",
        "    lat1, lon1 = row[1].split(',')\n",
        "    lat1 = float(lat1)\n",
        "    lon1 = float(lon1)\n",
        "    row[5] = distance(lat0, lon0, lat1, lon1)\n",
        "    # criterias = grading(grader_prompt, row[3])\n",
        "\n",
        "with open(csv_file_path, mode='w', newline='') as file:\n",
        "    csv_writer = csv.writer(file)\n",
        "    csv_writer.writerows(data)\n",
        ""
      ],
      "metadata": {
        "id": "bKlKb-bkTnU4"
      },
      "execution_count": null,
      "outputs": []
    }
  ]
}